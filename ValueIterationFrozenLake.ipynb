{
 "cells": [
  {
   "cell_type": "code",
   "execution_count": 4,
   "metadata": {},
   "outputs": [],
   "source": [
    "import numpy as np\n",
    "import gym"
   ]
  },
  {
   "cell_type": "code",
   "execution_count": 5,
   "metadata": {},
   "outputs": [
    {
     "name": "stderr",
     "output_type": "stream",
     "text": [
      "c:\\Users\\NovinAT\\AppData\\Local\\Programs\\Python\\Python310\\lib\\site-packages\\gym\\envs\\toy_text\\frozen_lake.py:271: UserWarning: \u001b[33mWARN: You are calling render method without specifying any render mode. You can specify the render_mode at initialization, e.g. gym(\"FrozenLake-v1\", render_mode=\"rgb_array\")\u001b[0m\n",
      "  logger.warn(\n"
     ]
    }
   ],
   "source": [
    "env=gym.make('FrozenLake-v1')\n",
    "env.reset()\n",
    "env.render()"
   ]
  },
  {
   "cell_type": "code",
   "execution_count": 6,
   "metadata": {},
   "outputs": [],
   "source": [
    "def value_iteration(env):\n",
    "    num_iterations=1000\n",
    "    thereshold=1e-20\n",
    "    gamma=1\n",
    "    value_table=np.zeros(env.observation_space.n)\n",
    "    for i in range(num_iterations):\n",
    "        updated_value_table=np.copy(value_table)\n",
    "        for s in range(env.observation_space.n):\n",
    "            Q_values = [sum([prob*(r + gamma * updated_value_table[s_])\n",
    "            for prob, s_, r, _ in env.P[s][a]])\n",
    "                for a in range(env.action_space.n)]\n",
    "            value_table[s]=max(Q_values)\n",
    "        if(np.sum(np.fabs(updated_value_table-value_table))<=thereshold):\n",
    "            break\n",
    "    return value_table\n"
   ]
  },
  {
   "cell_type": "code",
   "execution_count": 7,
   "metadata": {},
   "outputs": [],
   "source": [
    "def value_iteration(env):\n",
    "\n",
    " num_iterations = 1000\n",
    " threshold = 1e-20\n",
    " gamma = 1.0\n",
    " value_table = np.zeros(env.observation_space.n)\n",
    "\n",
    " for i in range(num_iterations):\n",
    "    updated_value_table = np.copy(value_table)\n",
    "\n",
    "    for s in range(env.observation_space.n):\n",
    "\n",
    "        Q_values = [sum([prob*(r + gamma * updated_value_table[s_])\n",
    "        for prob, s_, r, _ in env.P[s][a]])\n",
    "            for a in range(env.action_space.n)]\n",
    "        value_table[s] = max(Q_values)\n",
    "    if (np.sum(np.fabs(updated_value_table - value_table)) <=threshold):\n",
    "        break\n",
    "\n",
    " return value_table"
   ]
  },
  {
   "cell_type": "code",
   "execution_count": 8,
   "metadata": {},
   "outputs": [],
   "source": [
    "def extract_policy(value_table):\n",
    "    gamma=1\n",
    "    policy = np.zeros(env.observation_space.n)\n",
    "    for s in range(env.observation_space.n):\n",
    "        Q_values = [sum([prob*(r + gamma * value_table[s_])\n",
    "        for prob, s_, r, _ in env.P[s][a]])\n",
    "            for a in range(env.action_space.n)]\n",
    "        policy[s]=np.argmax(np.array(Q_values))\n",
    "    return policy"
   ]
  },
  {
   "cell_type": "code",
   "execution_count": 9,
   "metadata": {},
   "outputs": [],
   "source": [
    "def extract_policy(value_table):\n",
    "    gamma = 1.0\n",
    "    policy = np.zeros(env.observation_space.n)\n",
    "\n",
    "    for s in range(env.observation_space.n):\n",
    "\n",
    "        Q_values = [sum([prob*(r + gamma * value_table[s_])\n",
    "        for prob, s_, r, _ in env.P[s][a]])\n",
    "            for a in range(env.action_space.n)]\n",
    "\n",
    "        policy[s] = np.argmax(np.array(Q_values))\n",
    "\n",
    "    return policy"
   ]
  },
  {
   "cell_type": "code",
   "execution_count": 10,
   "metadata": {},
   "outputs": [
    {
     "name": "stdout",
     "output_type": "stream",
     "text": [
      "[0. 3. 3. 3. 0. 0. 0. 0. 3. 1. 0. 0. 0. 2. 1. 0.]\n"
     ]
    }
   ],
   "source": [
    "optimal_value_function=value_iteration(env)\n",
    "optimal_policy=extract_policy(optimal_value_function)\n",
    "print(optimal_policy)"
   ]
  }
 ],
 "metadata": {
  "kernelspec": {
   "display_name": "Python 3",
   "language": "python",
   "name": "python3"
  },
  "language_info": {
   "codemirror_mode": {
    "name": "ipython",
    "version": 3
   },
   "file_extension": ".py",
   "mimetype": "text/x-python",
   "name": "python",
   "nbconvert_exporter": "python",
   "pygments_lexer": "ipython3",
   "version": "3.10.11"
  }
 },
 "nbformat": 4,
 "nbformat_minor": 2
}
