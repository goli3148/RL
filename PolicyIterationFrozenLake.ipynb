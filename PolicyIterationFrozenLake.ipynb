{
 "cells": [
  {
   "cell_type": "code",
   "execution_count": 16,
   "metadata": {},
   "outputs": [],
   "source": [
    "import gym\n",
    "import numpy as np"
   ]
  },
  {
   "cell_type": "code",
   "execution_count": 17,
   "metadata": {},
   "outputs": [],
   "source": [
    "env = gym.make('FrozenLake-v1')\n",
    "def compute_value_function(policy):\n",
    "    num_iterations = 1000\n",
    "    threshold=1e-20\n",
    "    gamma=1\n",
    "    value_table = np.zeros(env.observation_space.n)\n",
    "    for i in range(num_iterations):\n",
    "        updated_value_table = np.copy(value_table)\n",
    "        for s in range(env.observation_space.n):\n",
    "            a = policy[s]\n",
    "            value_table[s] = sum(\n",
    "                [prob * (r + gamma * updated_value_table[s_])\n",
    "                    for prob, s_, r, _ in env.P[s][a]])\n",
    "        if (np.sum(np.fabs(updated_value_table - value_table)) <= threshold):\n",
    "            break\n",
    "\n",
    "    return value_table"
   ]
  },
  {
   "cell_type": "code",
   "execution_count": 18,
   "metadata": {},
   "outputs": [],
   "source": [
    "def extract_policy(value_table):\n",
    "\n",
    "    gamma = 1.0\n",
    "    policy = np.zeros(env.observation_space.n)\n",
    "    for s in range(env.observation_space.n):\n",
    "\n",
    "        Q_values = [sum([prob*(r + gamma * value_table[s_])\n",
    "        for prob, s_, r, _ in env.P[s][a]])\n",
    "            for a in range(env.action_space.n)]\n",
    "\n",
    "        policy[s] = np.argmax(np.array(Q_values))\n",
    "\n",
    "    return policy"
   ]
  },
  {
   "cell_type": "code",
   "execution_count": 21,
   "metadata": {},
   "outputs": [],
   "source": [
    "def policy_iteration(env):\n",
    "    num_iteration=1000\n",
    "    policy=np.zeros(env.observation_space.n)\n",
    "    for i in range(num_iteration):\n",
    "        value_function=compute_value_function(policy)\n",
    "        new_policy=extract_policy(value_function)\n",
    "        if(np.all(policy==new_policy)):\n",
    "           print(f\"iteration number: {i}\")\n",
    "           break\n",
    "        policy=new_policy\n",
    "    return policy"
   ]
  },
  {
   "cell_type": "code",
   "execution_count": 22,
   "metadata": {},
   "outputs": [
    {
     "name": "stdout",
     "output_type": "stream",
     "text": [
      "iteration number: 6\n",
      "[0. 3. 3. 3. 0. 0. 0. 0. 3. 1. 0. 0. 0. 2. 1. 0.]\n"
     ]
    }
   ],
   "source": [
    "optimal_policy = policy_iteration(env)\n",
    "print(optimal_policy)"
   ]
  }
 ],
 "metadata": {
  "kernelspec": {
   "display_name": "Python 3",
   "language": "python",
   "name": "python3"
  },
  "language_info": {
   "codemirror_mode": {
    "name": "ipython",
    "version": 3
   },
   "file_extension": ".py",
   "mimetype": "text/x-python",
   "name": "python",
   "nbconvert_exporter": "python",
   "pygments_lexer": "ipython3",
   "version": "3.10.12"
  }
 },
 "nbformat": 4,
 "nbformat_minor": 2
}
