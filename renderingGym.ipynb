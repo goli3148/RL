{
 "cells": [
  {
   "cell_type": "code",
   "execution_count": 1,
   "metadata": {},
   "outputs": [
    {
     "name": "stdout",
     "output_type": "stream",
     "text": [
      "0.26.2\n"
     ]
    }
   ],
   "source": [
    "import gym\n",
    "import numpy as np\n",
    "\n",
    "print(gym.__version__)"
   ]
  },
  {
   "cell_type": "code",
   "execution_count": 2,
   "metadata": {},
   "outputs": [],
   "source": [
    "import gym\n",
    "import time\n",
    "# Create the Frozen Lake environment with deterministic behavior\n",
    "env = gym.make('FrozenLake-v1', render_mode='human', is_slippery=False)\n",
    "\n",
    "# Reset the environment to get the initial state\n",
    "state = env.reset()\n",
    "\n",
    "# Define your policy\n",
    "policy = np.array([0. ,3. ,3., 3., 0., 0., 0., 0., 3., 1., 0., 0., 0., 2., 1., 0.]).astype('int')\n",
    " \n",
    "\n",
    "done = False\n",
    "\n",
    "# Run the environment until done\n",
    "for action in policy:\n",
    "    # Render the environment\n",
    "    env.render()\n",
    "\n",
    "    # Step the environment with the action from the policy\n",
    "    state, reward, done, _,_ = env.step(action)\n",
    "    \n",
    "    # Check if the episode is done\n",
    "    if done:\n",
    "        break\n",
    "    time.sleep(0.05)\n",
    "\n",
    "# Close the environment\n",
    "env.close()\n"
   ]
  }
 ],
 "metadata": {
  "kernelspec": {
   "display_name": ".venv",
   "language": "python",
   "name": "python3"
  },
  "language_info": {
   "codemirror_mode": {
    "name": "ipython",
    "version": 3
   },
   "file_extension": ".py",
   "mimetype": "text/x-python",
   "name": "python",
   "nbconvert_exporter": "python",
   "pygments_lexer": "ipython3",
   "version": "3.10.12"
  }
 },
 "nbformat": 4,
 "nbformat_minor": 2
}
